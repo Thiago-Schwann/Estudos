{
 "cells": [
  {
   "cell_type": "code",
   "execution_count": null,
   "id": "847bc0e8",
   "metadata": {},
   "outputs": [],
   "source": [
    "#Função para escrever um texto\n",
    "import pyautogui\n",
    "\n",
    "pyautogui.typewrite(\"Hello World!\", 0.18) \n",
    "#Dois parâmetros, sendo o primeiro o valor a ser digitado, e o segundo o tempo de digitação. Mensagem digitada: Hello World!\n",
    "\n"
   ]
  },
  {
   "cell_type": "code",
   "execution_count": null,
   "id": "263a0d33",
   "metadata": {},
   "outputs": [],
   "source": [
    "#Função para pressionar uma tecla do teclado\n",
    "import pyautogui\n",
    "\n",
    "pyautogui.press(\"+\")\n",
    "# Saída: +"
   ]
  },
  {
   "cell_type": "code",
   "execution_count": 19,
   "id": "95735f8c",
   "metadata": {},
   "outputs": [],
   "source": [
    "#Função que pressiona uma tecla por um período\n",
    "import pyautogui\n",
    "\n",
    "pyautogui.keyDown('shift')\n",
    "pyautogui.press('2')\n",
    "pyautogui.press('3')\n",
    "pyautogui.press('4')\n",
    "pyautogui.keyUp('shift')\n",
    "\n",
    "# Saída: @#$"
   ]
  },
  {
   "cell_type": "code",
   "execution_count": null,
   "id": "58854623",
   "metadata": {},
   "outputs": [],
   "source": [
    "#Função para pressionar teclas simultâneamente\n",
    "import pyautogui\n",
    "\n",
    "pyautogui.hotkey(\"ctrl\", \"shift\", \"esc\")\n",
    "# Saída: Abriu o gerenciador de tarefas"
   ]
  },
  {
   "cell_type": "code",
   "execution_count": null,
   "id": "4d30a1b7",
   "metadata": {},
   "outputs": [],
   "source": [
    "#Função para fazer com que o programa aguarde para executar a próxima função.\n",
    "import pyautogui\n",
    "\n",
    "pyautogui.typewrite(\"Primeiro, aguarde... \",0.2)\n",
    "pyautogui.sleep(3)\n",
    "pyautogui.typewrite(\"Segundo\",0.2)\n",
    "# Saída: Primeiro, aguarde... Segundo"
   ]
  },
  {
   "cell_type": "code",
   "execution_count": null,
   "id": "6c4a7c14",
   "metadata": {},
   "outputs": [],
   "source": [
    "#Função para definir um delay de tempo entre todas as funções do PyAutoGUI\n",
    "import pyautogui\n",
    "\n",
    "pyautogui.PAUSE = 3"
   ]
  }
 ],
 "metadata": {
  "kernelspec": {
   "display_name": "Python 3",
   "language": "python",
   "name": "python3"
  },
  "language_info": {
   "codemirror_mode": {
    "name": "ipython",
    "version": 3
   },
   "file_extension": ".py",
   "mimetype": "text/x-python",
   "name": "python",
   "nbconvert_exporter": "python",
   "pygments_lexer": "ipython3",
   "version": "3.10.10"
  }
 },
 "nbformat": 4,
 "nbformat_minor": 5
}
