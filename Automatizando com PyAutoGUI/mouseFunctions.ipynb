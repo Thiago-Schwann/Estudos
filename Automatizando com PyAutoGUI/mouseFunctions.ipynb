{
 "cells": [
  {
   "cell_type": "code",
   "execution_count": null,
   "id": "ea30a48f",
   "metadata": {},
   "outputs": [],
   "source": [
    "import pyautogui\n",
    "\n",
    "#Usamos isso para verificar a posição do mouse na tela, podendo pegar cordenada dos elementos da tela em tempo real. \n",
    "\n",
    "try:\n",
    "    while True:\n",
    "        x, y = pyautogui.position()\n",
    "        positionStr = 'X: ' + str(x).rjust(4) + ' Y: ' + str(y).rjust(4)\n",
    "        print(positionStr, end='')\n",
    "        print('\\b' * len(positionStr), end='', flush=True)\n",
    "except KeyboardInterrupt:\n",
    "    print('\\n')"
   ]
  },
  {
   "cell_type": "code",
   "execution_count": 13,
   "id": "b077884c",
   "metadata": {},
   "outputs": [],
   "source": [
    "import pyautogui\n",
    "\n",
    "#Faz um movimento absoluto com o mouse com base nas coordenadas\n",
    "pyautogui.moveTo(350,500, duration=0.5)"
   ]
  },
  {
   "cell_type": "code",
   "execution_count": 14,
   "id": "1999ccfd",
   "metadata": {},
   "outputs": [],
   "source": [
    "import pyautogui\n",
    "\n",
    "#Faz um movimento relativo com o mouse com base nas coordenadas, ou seja, diferente do movimento absoluto, ele usa as coordenadas atuais do mouse e adicionam um movimento com base no parâmetro(pixels) passado.\n",
    "pyautogui.moveRel(350,500, duration=0.5)"
   ]
  },
  {
   "cell_type": "code",
   "execution_count": null,
   "id": "f0de8c0a",
   "metadata": {},
   "outputs": [],
   "source": [
    "import pyautogui\n",
    "\n",
    "#Mesmo conceito do keyDown e keyUp, podendo arrastar elementos na tela com o click do mouse. \n",
    "# PS: O pyautoGUI pode ter algumas inconsistências em movimentos bruscos, dando muito valor ao parâmetro de \"DURATION\" para suavizar o movimento, além de analisar a trajetória.\n",
    "pyautogui.mouseDown(x,y)\n",
    "pyautogui.moveTo(x,y)\n",
    "pyautogui.mouseUp()\n"
   ]
  },
  {
   "cell_type": "code",
   "execution_count": null,
   "id": "8b2768f5",
   "metadata": {},
   "outputs": [],
   "source": [
    "import pyautogui\n",
    "\n",
    "#Ele usa a coordenada atual do mouse, clica e vai até o parâmetro passado (Basicamente a mesma coisa do bloco anterior, porém resumido e sendo necessário saber onde o mouse está exatamente).\n",
    "pyautogui.dragTo(x,y)\n"
   ]
  },
  {
   "cell_type": "code",
   "execution_count": null,
   "id": "1321c5b2",
   "metadata": {},
   "outputs": [],
   "source": [
    "import pyautogui\n",
    "\n",
    "#Essa função é relacionada aos clicks do mouse, podendo interagir com os elementos da tela com base nos clicks.\n",
    "pyautogui.click(x,y,clicks=10, interval=0.5)\n",
    "pyautogui.doubleClick(x,y)\n",
    "pyautogui.tripleClick(x,y)\n",
    "\n",
    "#Aqui usamos o botão direito ao invés do esquerdo.\n",
    "pyautogui.rightClick(x,y)\n",
    "\n",
    "#Aqui clicamos o botão do scroll.\n",
    "pyautogui.middleClick(x,y)"
   ]
  },
  {
   "cell_type": "code",
   "execution_count": null,
   "id": "4986c5c9",
   "metadata": {},
   "outputs": [],
   "source": [
    "import pyautogui\n",
    "\n",
    "#O Scroll diferencia na página que ele é usado, podendo ser mais ou menos efetivo. O valor negativo é passado para descer, e o positivo para subir.\n",
    "pyautogui.scroll(clicks=-600)"
   ]
  }
 ],
 "metadata": {
  "kernelspec": {
   "display_name": "Python 3",
   "language": "python",
   "name": "python3"
  },
  "language_info": {
   "codemirror_mode": {
    "name": "ipython",
    "version": 3
   },
   "file_extension": ".py",
   "mimetype": "text/x-python",
   "name": "python",
   "nbconvert_exporter": "python",
   "pygments_lexer": "ipython3",
   "version": "3.10.10"
  }
 },
 "nbformat": 4,
 "nbformat_minor": 5
}
