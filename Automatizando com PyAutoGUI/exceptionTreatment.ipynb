{
 "cells": [
  {
   "cell_type": "code",
   "execution_count": null,
   "id": "0239f5f9",
   "metadata": {},
   "outputs": [],
   "source": [
    "import pyautogui\n",
    "\n",
    "#Ele é usado como uma parada de emergência, arrastando num movimento único para esquerda\n",
    "pyautogui.FailSafeException"
   ]
  },
  {
   "cell_type": "code",
   "execution_count": null,
   "id": "1d304671",
   "metadata": {},
   "outputs": [
    {
     "data": {
      "text/plain": [
       "'Legal '"
      ]
     },
     "execution_count": 1,
     "metadata": {},
     "output_type": "execute_result"
    }
   ],
   "source": [
    "import pyautogui\n",
    "\n",
    "#Da a possibilidade de uma interação para passar uma informação em texto\n",
    "pyautogui.prompt(text=\"Texto a ser inserido\", title=\"Inserção de Texto\")\n"
   ]
  },
  {
   "cell_type": "code",
   "execution_count": null,
   "id": "b0f2ec91",
   "metadata": {},
   "outputs": [
    {
     "data": {
      "text/plain": [
       "'Botão B'"
      ]
     },
     "execution_count": 5,
     "metadata": {},
     "output_type": "execute_result"
    }
   ],
   "source": [
    "import pyautogui\n",
    "\n",
    "#Da a possibilidade de seleção para passar uma informação em texto reduzindo possíveis falhas\n",
    "#O parÂmetro buttons pode ser usado como 'button' para um único botão.\n",
    "pyautogui.confirm(text=\"Texto a ser inserido\", title=\"Inserção de Texto\", buttons=['Botão A','Botão B'])"
   ]
  },
  {
   "cell_type": "code",
   "execution_count": null,
   "id": "bfa40e37",
   "metadata": {},
   "outputs": [],
   "source": [
    "import pyautogui\n",
    "\n",
    "#Exemplo prático de como isso poderia ser usado (É necessário ter as imagens dentro da mesma pasta para copilar o código)\n",
    "nome_site = pyautogui.prompt(text='Infome o nome do site em que você está navegando', title='Site')\n",
    "resposta_aba = pyautogui.confirm(text =f'Qual aba você quer acessar no site {nome_site}', title='Menu', buttons=['Botão A', 'Botão B', 'Botão C'])\n",
    "\n",
    "pyautogui.alert(f'O código será redirecioando para a aba {resposta_aba}')\n",
    "\n",
    "local = pyautogui.locateOnScreen(resposta_aba + '.png')\n",
    "pyautogui.moveTo(local)\n",
    "pyautogui.click()"
   ]
  }
 ],
 "metadata": {
  "kernelspec": {
   "display_name": "Python 3",
   "language": "python",
   "name": "python3"
  },
  "language_info": {
   "codemirror_mode": {
    "name": "ipython",
    "version": 3
   },
   "file_extension": ".py",
   "mimetype": "text/x-python",
   "name": "python",
   "nbconvert_exporter": "python",
   "pygments_lexer": "ipython3",
   "version": "3.10.10"
  }
 },
 "nbformat": 4,
 "nbformat_minor": 5
}
